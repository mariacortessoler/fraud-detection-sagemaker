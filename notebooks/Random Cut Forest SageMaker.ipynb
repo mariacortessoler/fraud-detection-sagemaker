{
 "cells": [
  {
   "cell_type": "markdown",
   "metadata": {},
   "source": [
    "# Detección de transacciones fraudulentas"
   ]
  },
  {
   "cell_type": "markdown",
   "metadata": {},
   "source": [
    "<a id='contents' />\n",
    "\n",
    "## Tabla de contenidos\n",
    "\n",
    "1. [Carga de librerías, procesamiento de datos](#loading)\n",
    "2. [Entrenamiento del modelo](#training)\n",
    "3. [SageMaker Endpoint](#endpoint)\n",
    "3. [Enviar tráfico al endpoint](#traffic) \n",
    "4. [Limpieza de recursos](#clean)"
   ]
  },
  {
   "cell_type": "markdown",
   "metadata": {},
   "source": [
    "<a id='loading' />\n",
    "\n",
    "## Carga de librerías, procesamiento de datos\n",
    "[(back to top)](#contents)"
   ]
  },
  {
   "cell_type": "markdown",
   "metadata": {},
   "source": [
    "Carga de librerías:"
   ]
  },
  {
   "cell_type": "code",
   "execution_count": 38,
   "metadata": {},
   "outputs": [],
   "source": [
    "import numpy as np \n",
    "import pandas as pd\n",
    "import awswrangler as wr\n",
    "from sklearn.model_selection import train_test_split\n",
    "import boto3\n",
    "import os\n",
    "import sagemaker\n",
    "from sagemaker import get_execution_role, RandomCutForest\n",
    "from sagemaker.model_monitor import DataCaptureConfig\n",
    "import seaborn as sns\n",
    "import matplotlib.pyplot as plt\n",
    "\n",
    "session = sagemaker.Session()"
   ]
  },
  {
   "cell_type": "markdown",
   "metadata": {},
   "source": [
    "Importar los datos desde S3 con AWS Wrangler"
   ]
  },
  {
   "cell_type": "code",
   "execution_count": 39,
   "metadata": {},
   "outputs": [],
   "source": [
    "bucket='<YOUR-BUCKET-NAME>'\n",
    "prefix='fraud-classifier'"
   ]
  },
  {
   "cell_type": "code",
   "execution_count": 40,
   "metadata": {},
   "outputs": [],
   "source": [
    "data=wr.s3.read_csv(f\"s3://{bucket}/{prefix}/train/base/creditcard.csv\")"
   ]
  },
  {
   "cell_type": "markdown",
   "metadata": {},
   "source": [
    "Investigación de los datos:"
   ]
  },
  {
   "cell_type": "code",
   "execution_count": 41,
   "metadata": {},
   "outputs": [
    {
     "name": "stdout",
     "output_type": "stream",
     "text": [
      "Index(['Time', 'V1', 'V2', 'V3', 'V4', 'V5', 'V6', 'V7', 'V8', 'V9', 'V10',\n",
      "       'V11', 'V12', 'V13', 'V14', 'V15', 'V16', 'V17', 'V18', 'V19', 'V20',\n",
      "       'V21', 'V22', 'V23', 'V24', 'V25', 'V26', 'V27', 'V28', 'Amount',\n",
      "       'Class'],\n",
      "      dtype='object')\n"
     ]
    },
    {
     "data": {
      "text/html": [
       "<div>\n",
       "<style scoped>\n",
       "    .dataframe tbody tr th:only-of-type {\n",
       "        vertical-align: middle;\n",
       "    }\n",
       "\n",
       "    .dataframe tbody tr th {\n",
       "        vertical-align: top;\n",
       "    }\n",
       "\n",
       "    .dataframe thead th {\n",
       "        text-align: right;\n",
       "    }\n",
       "</style>\n",
       "<table border=\"1\" class=\"dataframe\">\n",
       "  <thead>\n",
       "    <tr style=\"text-align: right;\">\n",
       "      <th></th>\n",
       "      <th>Time</th>\n",
       "      <th>V1</th>\n",
       "      <th>V2</th>\n",
       "      <th>V27</th>\n",
       "      <th>V28</th>\n",
       "      <th>Amount</th>\n",
       "      <th>Class</th>\n",
       "    </tr>\n",
       "  </thead>\n",
       "  <tbody>\n",
       "    <tr>\n",
       "      <th>count</th>\n",
       "      <td>284807.000000</td>\n",
       "      <td>2.848070e+05</td>\n",
       "      <td>2.848070e+05</td>\n",
       "      <td>2.848070e+05</td>\n",
       "      <td>2.848070e+05</td>\n",
       "      <td>284807.000000</td>\n",
       "      <td>284807.000000</td>\n",
       "    </tr>\n",
       "    <tr>\n",
       "      <th>mean</th>\n",
       "      <td>94813.859575</td>\n",
       "      <td>3.919560e-15</td>\n",
       "      <td>5.688174e-16</td>\n",
       "      <td>-3.660161e-16</td>\n",
       "      <td>-1.206049e-16</td>\n",
       "      <td>88.349619</td>\n",
       "      <td>0.001727</td>\n",
       "    </tr>\n",
       "    <tr>\n",
       "      <th>std</th>\n",
       "      <td>47488.145955</td>\n",
       "      <td>1.958696e+00</td>\n",
       "      <td>1.651309e+00</td>\n",
       "      <td>4.036325e-01</td>\n",
       "      <td>3.300833e-01</td>\n",
       "      <td>250.120109</td>\n",
       "      <td>0.041527</td>\n",
       "    </tr>\n",
       "    <tr>\n",
       "      <th>min</th>\n",
       "      <td>0.000000</td>\n",
       "      <td>-5.640751e+01</td>\n",
       "      <td>-7.271573e+01</td>\n",
       "      <td>-2.256568e+01</td>\n",
       "      <td>-1.543008e+01</td>\n",
       "      <td>0.000000</td>\n",
       "      <td>0.000000</td>\n",
       "    </tr>\n",
       "    <tr>\n",
       "      <th>25%</th>\n",
       "      <td>54201.500000</td>\n",
       "      <td>-9.203734e-01</td>\n",
       "      <td>-5.985499e-01</td>\n",
       "      <td>-7.083953e-02</td>\n",
       "      <td>-5.295979e-02</td>\n",
       "      <td>5.600000</td>\n",
       "      <td>0.000000</td>\n",
       "    </tr>\n",
       "    <tr>\n",
       "      <th>50%</th>\n",
       "      <td>84692.000000</td>\n",
       "      <td>1.810880e-02</td>\n",
       "      <td>6.548556e-02</td>\n",
       "      <td>1.342146e-03</td>\n",
       "      <td>1.124383e-02</td>\n",
       "      <td>22.000000</td>\n",
       "      <td>0.000000</td>\n",
       "    </tr>\n",
       "    <tr>\n",
       "      <th>75%</th>\n",
       "      <td>139320.500000</td>\n",
       "      <td>1.315642e+00</td>\n",
       "      <td>8.037239e-01</td>\n",
       "      <td>9.104512e-02</td>\n",
       "      <td>7.827995e-02</td>\n",
       "      <td>77.165000</td>\n",
       "      <td>0.000000</td>\n",
       "    </tr>\n",
       "    <tr>\n",
       "      <th>max</th>\n",
       "      <td>172792.000000</td>\n",
       "      <td>2.454930e+00</td>\n",
       "      <td>2.205773e+01</td>\n",
       "      <td>3.161220e+01</td>\n",
       "      <td>3.384781e+01</td>\n",
       "      <td>25691.160000</td>\n",
       "      <td>1.000000</td>\n",
       "    </tr>\n",
       "  </tbody>\n",
       "</table>\n",
       "</div>"
      ],
      "text/plain": [
       "                Time            V1            V2           V27           V28  \\\n",
       "count  284807.000000  2.848070e+05  2.848070e+05  2.848070e+05  2.848070e+05   \n",
       "mean    94813.859575  3.919560e-15  5.688174e-16 -3.660161e-16 -1.206049e-16   \n",
       "std     47488.145955  1.958696e+00  1.651309e+00  4.036325e-01  3.300833e-01   \n",
       "min         0.000000 -5.640751e+01 -7.271573e+01 -2.256568e+01 -1.543008e+01   \n",
       "25%     54201.500000 -9.203734e-01 -5.985499e-01 -7.083953e-02 -5.295979e-02   \n",
       "50%     84692.000000  1.810880e-02  6.548556e-02  1.342146e-03  1.124383e-02   \n",
       "75%    139320.500000  1.315642e+00  8.037239e-01  9.104512e-02  7.827995e-02   \n",
       "max    172792.000000  2.454930e+00  2.205773e+01  3.161220e+01  3.384781e+01   \n",
       "\n",
       "              Amount          Class  \n",
       "count  284807.000000  284807.000000  \n",
       "mean       88.349619       0.001727  \n",
       "std       250.120109       0.041527  \n",
       "min         0.000000       0.000000  \n",
       "25%         5.600000       0.000000  \n",
       "50%        22.000000       0.000000  \n",
       "75%        77.165000       0.000000  \n",
       "max     25691.160000       1.000000  "
      ]
     },
     "execution_count": 41,
     "metadata": {},
     "output_type": "execute_result"
    }
   ],
   "source": [
    "print(data.columns)\n",
    "data[['Time', 'V1', 'V2', 'V27', 'V28', 'Amount', 'Class']].describe()"
   ]
  },
  {
   "cell_type": "markdown",
   "metadata": {},
   "source": [
    "Definir las features del modelo:"
   ]
  },
  {
   "cell_type": "code",
   "execution_count": 42,
   "metadata": {},
   "outputs": [],
   "source": [
    "feature_columns = data.columns[:-1]\n",
    "features = data[feature_columns].values.astype('float32')"
   ]
  },
  {
   "cell_type": "markdown",
   "metadata": {},
   "source": [
    "<a id='training' />\n",
    "\n",
    "## Entrenamiento del modelo\n",
    "[(back to top)](#contents)"
   ]
  },
  {
   "cell_type": "markdown",
   "metadata": {},
   "source": [
    "Vamos a dividir el conjunto de datos en conjuntos de train y test. Asignamos 10% de los datos al conjunto de test."
   ]
  },
  {
   "cell_type": "code",
   "execution_count": 46,
   "metadata": {},
   "outputs": [],
   "source": [
    "X_train, X_test, y_train, y_test = train_test_split(\n",
    "    features, labels, test_size=0.1, random_state=42)"
   ]
  },
  {
   "cell_type": "markdown",
   "metadata": {},
   "source": [
    "#### Modelo de detección de anomalías (Random Cut Forest)"
   ]
  },
  {
   "cell_type": "markdown",
   "metadata": {},
   "source": [
    "Random Cut Forest es un modelo de aprendizaje no supervisado que intyenta identificar observaciones anómalas basándose en las variables definidas. "
   ]
  },
  {
   "cell_type": "markdown",
   "metadata": {},
   "source": [
    "**Hiperparámetros:**\n",
    "\n",
    "- num_samples_per_tree: El número de observaciones en cada árbol. Normalmente, 1/num_samples_per_tree debería ser un aproximado de la fracción: (aproximado número de anomalías)/(número de datos normales) \n",
    "\n",
    "- num_trees - Número de árboles para el random cut forest. Cada árbol es un modelo separado, con muestras de datos diferentes. El modelo completo de RCF usa la media de los anomaly scores predecidos por cada árbol. \n",
    "\n",
    "Adicionalmente, debemos especificar parámetros adicionales:\n",
    "\n",
    "- EC2 instance type: En donde el entrenamiento del modelo va a correr. \n",
    "- S3 bucket: Bucket y ruta específica que contiene la data\n",
    "- Role: El rol de AWS IAM. \n",
    "\n",
    "Tipos de instancias recomendadas para RCF: ml.m4, ml.c4, or ml.c5"
   ]
  },
  {
   "cell_type": "markdown",
   "metadata": {},
   "source": [
    "**Importante:** Para poder hacer tuning de los huperparámetros del modelo en SageMaker, requerimos tener un dataset de test con etiquetas de anomalías. Como no lo tenemos, en este caso debemos definir específicamente los hiperparámetros."
   ]
  },
  {
   "cell_type": "code",
   "execution_count": 7,
   "metadata": {},
   "outputs": [],
   "source": [
    "from sagemaker import RandomCutForest\n",
    "\n",
    "# specify general training job information\n",
    "rcf = RandomCutForest(role=get_execution_role(),\n",
    "                      train_instance_count=1,\n",
    "                      train_instance_type='ml.c4.xlarge',\n",
    "                      data_location='s3://{}/{}/'.format(bucket, prefix),\n",
    "                      output_path='s3://{}/{}/output'.format(bucket, prefix),\n",
    "                      num_samples_per_tree=512,\n",
    "                      num_trees=50)"
   ]
  },
  {
   "cell_type": "code",
   "execution_count": 8,
   "metadata": {},
   "outputs": [
    {
     "name": "stderr",
     "output_type": "stream",
     "text": [
      "'get_image_uri' method will be deprecated in favor of 'ImageURIProvider' class in SageMaker Python SDK v2.\n",
      "'s3_input' class will be renamed to 'TrainingInput' in SageMaker Python SDK v2.\n",
      "'get_image_uri' method will be deprecated in favor of 'ImageURIProvider' class in SageMaker Python SDK v2.\n"
     ]
    },
    {
     "name": "stdout",
     "output_type": "stream",
     "text": [
      "2020-07-17 18:52:25 Starting - Starting the training job...\n",
      "2020-07-17 18:52:35 Starting - Launching requested ML instances......\n",
      "2020-07-17 18:53:52 Starting - Preparing the instances for training......\n",
      "2020-07-17 18:54:53 Downloading - Downloading input data\n",
      "2020-07-17 18:54:53 Training - Downloading the training image.........\n",
      "2020-07-17 18:56:21 Training - Training image download completed. Training in progress..\u001b[34mDocker entrypoint called with argument(s): train\u001b[0m\n",
      "\u001b[34mRunning default environment configuration script\u001b[0m\n",
      "\u001b[34m/opt/amazon/lib/python2.7/site-packages/scipy/_lib/_numpy_compat.py:10: DeprecationWarning: Importing from numpy.testing.nosetester is deprecated, import from numpy.testing instead.\n",
      "  from numpy.testing.nosetester import import_nose\u001b[0m\n",
      "\u001b[34m/opt/amazon/lib/python2.7/site-packages/scipy/stats/morestats.py:12: DeprecationWarning: Importing from numpy.testing.decorators is deprecated, import from numpy.testing instead.\n",
      "  from numpy.testing.decorators import setastest\u001b[0m\n",
      "\u001b[34m[07/17/2020 18:56:25 INFO 140510002829120] Reading default configuration from /opt/amazon/lib/python2.7/site-packages/algorithm/resources/default-conf.json: {u'_ftp_port': 8999, u'num_samples_per_tree': 256, u'_tuning_objective_metric': u'', u'_num_gpus': u'auto', u'_log_level': u'info', u'_kvstore': u'dist_async', u'force_dense': u'true', u'epochs': 1, u'num_trees': 100, u'eval_metrics': [u'accuracy', u'precision_recall_fscore'], u'_num_kv_servers': u'auto', u'mini_batch_size': 1000}\u001b[0m\n",
      "\u001b[34m[07/17/2020 18:56:25 INFO 140510002829120] Reading provided configuration from /opt/ml/input/config/hyperparameters.json: {u'mini_batch_size': u'1000', u'feature_dim': u'30', u'num_samples_per_tree': u'512', u'num_trees': u'50'}\u001b[0m\n",
      "\u001b[34m[07/17/2020 18:56:25 INFO 140510002829120] Final configuration: {u'_ftp_port': 8999, u'num_samples_per_tree': u'512', u'_tuning_objective_metric': u'', u'_num_gpus': u'auto', u'_log_level': u'info', u'_kvstore': u'dist_async', u'force_dense': u'true', u'epochs': 1, u'feature_dim': u'30', u'num_trees': u'50', u'eval_metrics': [u'accuracy', u'precision_recall_fscore'], u'_num_kv_servers': u'auto', u'mini_batch_size': u'1000'}\u001b[0m\n",
      "\u001b[34m[07/17/2020 18:56:25 WARNING 140510002829120] Loggers have already been setup.\u001b[0m\n",
      "\u001b[34m[07/17/2020 18:56:25 INFO 140510002829120] Launching parameter server for role scheduler\u001b[0m\n",
      "\u001b[34m[07/17/2020 18:56:25 INFO 140510002829120] {'ECS_CONTAINER_METADATA_URI': 'http://169.254.170.2/v3/41728992-4b63-470d-a600-85d16a04bdc6', 'ECS_CONTAINER_METADATA_URI_V4': 'http://169.254.170.2/v4/41728992-4b63-470d-a600-85d16a04bdc6', 'PROTOCOL_BUFFERS_PYTHON_IMPLEMENTATION_VERSION': '2', 'PATH': '/opt/amazon/bin:/usr/local/nvidia/bin:/usr/local/sbin:/usr/local/bin:/usr/sbin:/usr/bin:/sbin:/bin:/opt/amazon/bin:/opt/amazon/bin', 'SAGEMAKER_HTTP_PORT': '8080', 'HOME': '/root', 'PYTHONUNBUFFERED': 'TRUE', 'CANONICAL_ENVROOT': '/opt/amazon', 'LD_LIBRARY_PATH': '/opt/amazon/lib/python2.7/site-packages/cv2/../../../../lib:/usr/local/nvidia/lib64:/opt/amazon/lib', 'MXNET_KVSTORE_BIGARRAY_BOUND': '400000000', 'LANG': 'en_US.utf8', 'DMLC_INTERFACE': 'eth0', 'SHLVL': '1', 'AWS_REGION': 'us-east-1', 'SAGEMAKER_METRICS_DIRECTORY': '/opt/ml/output/metrics/sagemaker', 'NVIDIA_VISIBLE_DEVICES': 'void', 'TRAINING_JOB_NAME': 'randomcutforest-2020-07-17-18-52-25-336', 'PROTOCOL_BUFFERS_PYTHON_IMPLEMENTATION': 'cpp', 'ENVROOT': '/opt/amazon', 'SAGEMAKER_DATA_PATH': '/opt/ml', 'NVIDIA_DRIVER_CAPABILITIES': 'compute,utility', 'NVIDIA_REQUIRE_CUDA': 'cuda>=9.0', 'OMP_NUM_THREADS': '2', 'HOSTNAME': 'ip-10-0-207-83.ec2.internal', 'AWS_CONTAINER_CREDENTIALS_RELATIVE_URI': '/v2/credentials/692e215a-b547-42f4-8cee-1a1f39144ced', 'PWD': '/', 'TRAINING_JOB_ARN': 'arn:aws:sagemaker:us-east-1:386102487792:training-job/randomcutforest-2020-07-17-18-52-25-336', 'AWS_EXECUTION_ENV': 'AWS_ECS_EC2'}\u001b[0m\n",
      "\u001b[34m[07/17/2020 18:56:25 INFO 140510002829120] envs={'ECS_CONTAINER_METADATA_URI': 'http://169.254.170.2/v3/41728992-4b63-470d-a600-85d16a04bdc6', 'ECS_CONTAINER_METADATA_URI_V4': 'http://169.254.170.2/v4/41728992-4b63-470d-a600-85d16a04bdc6', 'PROTOCOL_BUFFERS_PYTHON_IMPLEMENTATION_VERSION': '2', 'DMLC_NUM_WORKER': '1', 'DMLC_PS_ROOT_PORT': '9000', 'PATH': '/opt/amazon/bin:/usr/local/nvidia/bin:/usr/local/sbin:/usr/local/bin:/usr/sbin:/usr/bin:/sbin:/bin:/opt/amazon/bin:/opt/amazon/bin', 'SAGEMAKER_HTTP_PORT': '8080', 'HOME': '/root', 'PYTHONUNBUFFERED': 'TRUE', 'CANONICAL_ENVROOT': '/opt/amazon', 'LD_LIBRARY_PATH': '/opt/amazon/lib/python2.7/site-packages/cv2/../../../../lib:/usr/local/nvidia/lib64:/opt/amazon/lib', 'MXNET_KVSTORE_BIGARRAY_BOUND': '400000000', 'LANG': 'en_US.utf8', 'DMLC_INTERFACE': 'eth0', 'SHLVL': '1', 'DMLC_PS_ROOT_URI': '10.0.207.83', 'AWS_REGION': 'us-east-1', 'SAGEMAKER_METRICS_DIRECTORY': '/opt/ml/output/metrics/sagemaker', 'NVIDIA_VISIBLE_DEVICES': 'void', 'TRAINING_JOB_NAME': 'randomcutforest-2020-07-17-18-52-25-336', 'PROTOCOL_BUFFERS_PYTHON_IMPLEMENTATION': 'cpp', 'ENVROOT': '/opt/amazon', 'SAGEMAKER_DATA_PATH': '/opt/ml', 'NVIDIA_DRIVER_CAPABILITIES': 'compute,utility', 'NVIDIA_REQUIRE_CUDA': 'cuda>=9.0', 'OMP_NUM_THREADS': '2', 'HOSTNAME': 'ip-10-0-207-83.ec2.internal', 'AWS_CONTAINER_CREDENTIALS_RELATIVE_URI': '/v2/credentials/692e215a-b547-42f4-8cee-1a1f39144ced', 'DMLC_ROLE': 'scheduler', 'PWD': '/', 'DMLC_NUM_SERVER': '1', 'TRAINING_JOB_ARN': 'arn:aws:sagemaker:us-east-1:386102487792:training-job/randomcutforest-2020-07-17-18-52-25-336', 'AWS_EXECUTION_ENV': 'AWS_ECS_EC2'}\u001b[0m\n",
      "\u001b[34m[07/17/2020 18:56:25 INFO 140510002829120] Launching parameter server for role server\u001b[0m\n",
      "\u001b[34m[07/17/2020 18:56:25 INFO 140510002829120] {'ECS_CONTAINER_METADATA_URI': 'http://169.254.170.2/v3/41728992-4b63-470d-a600-85d16a04bdc6', 'ECS_CONTAINER_METADATA_URI_V4': 'http://169.254.170.2/v4/41728992-4b63-470d-a600-85d16a04bdc6', 'PROTOCOL_BUFFERS_PYTHON_IMPLEMENTATION_VERSION': '2', 'PATH': '/opt/amazon/bin:/usr/local/nvidia/bin:/usr/local/sbin:/usr/local/bin:/usr/sbin:/usr/bin:/sbin:/bin:/opt/amazon/bin:/opt/amazon/bin', 'SAGEMAKER_HTTP_PORT': '8080', 'HOME': '/root', 'PYTHONUNBUFFERED': 'TRUE', 'CANONICAL_ENVROOT': '/opt/amazon', 'LD_LIBRARY_PATH': '/opt/amazon/lib/python2.7/site-packages/cv2/../../../../lib:/usr/local/nvidia/lib64:/opt/amazon/lib', 'MXNET_KVSTORE_BIGARRAY_BOUND': '400000000', 'LANG': 'en_US.utf8', 'DMLC_INTERFACE': 'eth0', 'SHLVL': '1', 'AWS_REGION': 'us-east-1', 'SAGEMAKER_METRICS_DIRECTORY': '/opt/ml/output/metrics/sagemaker', 'NVIDIA_VISIBLE_DEVICES': 'void', 'TRAINING_JOB_NAME': 'randomcutforest-2020-07-17-18-52-25-336', 'PROTOCOL_BUFFERS_PYTHON_IMPLEMENTATION': 'cpp', 'ENVROOT': '/opt/amazon', 'SAGEMAKER_DATA_PATH': '/opt/ml', 'NVIDIA_DRIVER_CAPABILITIES': 'compute,utility', 'NVIDIA_REQUIRE_CUDA': 'cuda>=9.0', 'OMP_NUM_THREADS': '2', 'HOSTNAME': 'ip-10-0-207-83.ec2.internal', 'AWS_CONTAINER_CREDENTIALS_RELATIVE_URI': '/v2/credentials/692e215a-b547-42f4-8cee-1a1f39144ced', 'PWD': '/', 'TRAINING_JOB_ARN': 'arn:aws:sagemaker:us-east-1:386102487792:training-job/randomcutforest-2020-07-17-18-52-25-336', 'AWS_EXECUTION_ENV': 'AWS_ECS_EC2'}\u001b[0m\n",
      "\u001b[34m[07/17/2020 18:56:25 INFO 140510002829120] envs={'ECS_CONTAINER_METADATA_URI': 'http://169.254.170.2/v3/41728992-4b63-470d-a600-85d16a04bdc6', 'ECS_CONTAINER_METADATA_URI_V4': 'http://169.254.170.2/v4/41728992-4b63-470d-a600-85d16a04bdc6', 'PROTOCOL_BUFFERS_PYTHON_IMPLEMENTATION_VERSION': '2', 'DMLC_NUM_WORKER': '1', 'DMLC_PS_ROOT_PORT': '9000', 'PATH': '/opt/amazon/bin:/usr/local/nvidia/bin:/usr/local/sbin:/usr/local/bin:/usr/sbin:/usr/bin:/sbin:/bin:/opt/amazon/bin:/opt/amazon/bin', 'SAGEMAKER_HTTP_PORT': '8080', 'HOME': '/root', 'PYTHONUNBUFFERED': 'TRUE', 'CANONICAL_ENVROOT': '/opt/amazon', 'LD_LIBRARY_PATH': '/opt/amazon/lib/python2.7/site-packages/cv2/../../../../lib:/usr/local/nvidia/lib64:/opt/amazon/lib', 'MXNET_KVSTORE_BIGARRAY_BOUND': '400000000', 'LANG': 'en_US.utf8', 'DMLC_INTERFACE': 'eth0', 'SHLVL': '1', 'DMLC_PS_ROOT_URI': '10.0.207.83', 'AWS_REGION': 'us-east-1', 'SAGEMAKER_METRICS_DIRECTORY': '/opt/ml/output/metrics/sagemaker', 'NVIDIA_VISIBLE_DEVICES': 'void', 'TRAINING_JOB_NAME': 'randomcutforest-2020-07-17-18-52-25-336', 'PROTOCOL_BUFFERS_PYTHON_IMPLEMENTATION': 'cpp', 'ENVROOT': '/opt/amazon', 'SAGEMAKER_DATA_PATH': '/opt/ml', 'NVIDIA_DRIVER_CAPABILITIES': 'compute,utility', 'NVIDIA_REQUIRE_CUDA': 'cuda>=9.0', 'OMP_NUM_THREADS': '2', 'HOSTNAME': 'ip-10-0-207-83.ec2.internal', 'AWS_CONTAINER_CREDENTIALS_RELATIVE_URI': '/v2/credentials/692e215a-b547-42f4-8cee-1a1f39144ced', 'DMLC_ROLE': 'server', 'PWD': '/', 'DMLC_NUM_SERVER': '1', 'TRAINING_JOB_ARN': 'arn:aws:sagemaker:us-east-1:386102487792:training-job/randomcutforest-2020-07-17-18-52-25-336', 'AWS_EXECUTION_ENV': 'AWS_ECS_EC2'}\u001b[0m\n",
      "\u001b[34m[07/17/2020 18:56:25 INFO 140510002829120] Environment: {'ECS_CONTAINER_METADATA_URI': 'http://169.254.170.2/v3/41728992-4b63-470d-a600-85d16a04bdc6', 'ECS_CONTAINER_METADATA_URI_V4': 'http://169.254.170.2/v4/41728992-4b63-470d-a600-85d16a04bdc6', 'PROTOCOL_BUFFERS_PYTHON_IMPLEMENTATION_VERSION': '2', 'DMLC_PS_ROOT_PORT': '9000', 'DMLC_NUM_WORKER': '1', 'SAGEMAKER_HTTP_PORT': '8080', 'PATH': '/opt/amazon/bin:/usr/local/nvidia/bin:/usr/local/sbin:/usr/local/bin:/usr/sbin:/usr/bin:/sbin:/bin:/opt/amazon/bin:/opt/amazon/bin', 'PYTHONUNBUFFERED': 'TRUE', 'CANONICAL_ENVROOT': '/opt/amazon', 'LD_LIBRARY_PATH': '/opt/amazon/lib/python2.7/site-packages/cv2/../../../../lib:/usr/local/nvidia/lib64:/opt/amazon/lib', 'MXNET_KVSTORE_BIGARRAY_BOUND': '400000000', 'LANG': 'en_US.utf8', 'DMLC_INTERFACE': 'eth0', 'SHLVL': '1', 'DMLC_PS_ROOT_URI': '10.0.207.83', 'AWS_REGION': 'us-east-1', 'SAGEMAKER_METRICS_DIRECTORY': '/opt/ml/output/metrics/sagemaker', 'NVIDIA_VISIBLE_DEVICES': 'void', 'TRAINING_JOB_NAME': 'randomcutforest-2020-07-17-18-52-25-336', 'HOME': '/root', 'PROTOCOL_BUFFERS_PYTHON_IMPLEMENTATION': 'cpp', 'ENVROOT': '/opt/amazon', 'SAGEMAKER_DATA_PATH': '/opt/ml', 'NVIDIA_DRIVER_CAPABILITIES': 'compute,utility', 'NVIDIA_REQUIRE_CUDA': 'cuda>=9.0', 'OMP_NUM_THREADS': '2', 'HOSTNAME': 'ip-10-0-207-83.ec2.internal', 'AWS_CONTAINER_CREDENTIALS_RELATIVE_URI': '/v2/credentials/692e215a-b547-42f4-8cee-1a1f39144ced', 'DMLC_ROLE': 'worker', 'PWD': '/', 'DMLC_NUM_SERVER': '1', 'TRAINING_JOB_ARN': 'arn:aws:sagemaker:us-east-1:386102487792:training-job/randomcutforest-2020-07-17-18-52-25-336', 'AWS_EXECUTION_ENV': 'AWS_ECS_EC2'}\u001b[0m\n",
      "\u001b[34mProcess 32 is a shell:scheduler.\u001b[0m\n",
      "\u001b[34mProcess 33 is a shell:server.\u001b[0m\n",
      "\u001b[34mProcess 1 is a worker.\u001b[0m\n",
      "\u001b[34m[07/17/2020 18:56:25 INFO 140510002829120] Using default worker.\u001b[0m\n",
      "\u001b[34m[07/17/2020 18:56:25 INFO 140510002829120] Loaded iterator creator application/x-recordio-protobuf for content type ('application/x-recordio-protobuf', '1.0')\u001b[0m\n",
      "\u001b[34m[07/17/2020 18:56:25 INFO 140510002829120] Verifying hyperparamemters...\u001b[0m\n",
      "\u001b[34m[07/17/2020 18:56:25 INFO 140510002829120] Hyperparameters are correct.\u001b[0m\n",
      "\u001b[34m[07/17/2020 18:56:25 INFO 140510002829120] Validating that feature_dim agrees with dimensions in training data...\u001b[0m\n",
      "\u001b[34m[07/17/2020 18:56:25 INFO 140510002829120] feature_dim is correct.\u001b[0m\n",
      "\u001b[34m[07/17/2020 18:56:25 INFO 140510002829120] Validating memory limits...\u001b[0m\n",
      "\u001b[34m[07/17/2020 18:56:25 INFO 140510002829120] Available memory in bytes: 6336843776\u001b[0m\n",
      "\u001b[34m[07/17/2020 18:56:25 INFO 140510002829120] Estimated sample size in bytes: 6144000\u001b[0m\n",
      "\u001b[34m[07/17/2020 18:56:25 INFO 140510002829120] Estimated memory needed to build the forest in bytes: 30720000\u001b[0m\n",
      "\u001b[34m[07/17/2020 18:56:25 INFO 140510002829120] Memory limits validated.\u001b[0m\n",
      "\u001b[34m[07/17/2020 18:56:25 INFO 140510002829120] Starting cluster sharing facilities...\u001b[0m\n",
      "\u001b[34m[I 20-07-17 18:56:25] >>> starting FTP server on 0.0.0.0:8999, pid=1 <<<\u001b[0m\n",
      "\u001b[34m[07/17/2020 18:56:25 INFO 140508599301888] >>> starting FTP server on 0.0.0.0:8999, pid=1 <<<\u001b[0m\n",
      "\u001b[34m[I 20-07-17 18:56:25] poller: <class 'pyftpdlib.ioloop.Epoll'>\u001b[0m\n",
      "\u001b[34m[07/17/2020 18:56:25 INFO 140508599301888] poller: <class 'pyftpdlib.ioloop.Epoll'>\u001b[0m\n",
      "\u001b[34m[I 20-07-17 18:56:25] masquerade (NAT) address: None\u001b[0m\n",
      "\u001b[34m[I 20-07-17 18:56:25] passive ports: None\u001b[0m\n",
      "\u001b[34m[07/17/2020 18:56:25 INFO 140508599301888] masquerade (NAT) address: None\u001b[0m\n",
      "\u001b[34m[07/17/2020 18:56:25 INFO 140508599301888] passive ports: None\u001b[0m\n",
      "\u001b[34m[I 20-07-17 18:56:25] use sendfile(2): False\u001b[0m\n",
      "\u001b[34m[07/17/2020 18:56:25 INFO 140508599301888] use sendfile(2): False\u001b[0m\n",
      "\u001b[34m[07/17/2020 18:56:25 INFO 140510002829120] Create Store: dist_async\u001b[0m\n",
      "\u001b[34m[07/17/2020 18:56:26 INFO 140510002829120] Cluster sharing facilities started.\u001b[0m\n",
      "\u001b[34m[07/17/2020 18:56:26 INFO 140510002829120] Verifying all workers are accessible...\u001b[0m\n",
      "\u001b[34m[07/17/2020 18:56:26 INFO 140510002829120] All workers accessible.\u001b[0m\n",
      "\u001b[34m[07/17/2020 18:56:26 INFO 140510002829120] Initializing Sampler...\u001b[0m\n",
      "\u001b[34m[07/17/2020 18:56:26 INFO 140510002829120] Sampler correctly initialized.\u001b[0m\n",
      "\u001b[34m#metrics {\"Metrics\": {\"initialize.time\": {\"count\": 1, \"max\": 684.3099594116211, \"sum\": 684.3099594116211, \"min\": 684.3099594116211}}, \"EndTime\": 1595012186.490575, \"Dimensions\": {\"Host\": \"algo-1\", \"Operation\": \"training\", \"Algorithm\": \"RandomCutForest\"}, \"StartTime\": 1595012185.793014}\n",
      "\u001b[0m\n",
      "\u001b[34m#metrics {\"Metrics\": {\"Max Batches Seen Between Resets\": {\"count\": 1, \"max\": 0, \"sum\": 0.0, \"min\": 0}, \"Number of Batches Since Last Reset\": {\"count\": 1, \"max\": 0, \"sum\": 0.0, \"min\": 0}, \"Number of Records Since Last Reset\": {\"count\": 1, \"max\": 0, \"sum\": 0.0, \"min\": 0}, \"Total Batches Seen\": {\"count\": 1, \"max\": 0, \"sum\": 0.0, \"min\": 0}, \"Total Records Seen\": {\"count\": 1, \"max\": 0, \"sum\": 0.0, \"min\": 0}, \"Max Records Seen Between Resets\": {\"count\": 1, \"max\": 0, \"sum\": 0.0, \"min\": 0}, \"Reset Count\": {\"count\": 1, \"max\": 0, \"sum\": 0.0, \"min\": 0}}, \"EndTime\": 1595012186.491014, \"Dimensions\": {\"Host\": \"algo-1\", \"Meta\": \"init_train_data_iter\", \"Operation\": \"training\", \"Algorithm\": \"RandomCutForest\"}, \"StartTime\": 1595012186.490747}\n",
      "\u001b[0m\n",
      "\u001b[34m[2020-07-17 18:56:26.492] [tensorio] [info] epoch_stats={\"data_pipeline\": \"/opt/ml/input/data/train\", \"epoch\": 0, \"duration\": 698, \"num_examples\": 1, \"num_bytes\": 148000}\u001b[0m\n",
      "\u001b[34m[07/17/2020 18:56:26 INFO 140510002829120] Sampling training data...\u001b[0m\n",
      "\u001b[34m[2020-07-17 18:56:26.907] [tensorio] [info] epoch_stats={\"data_pipeline\": \"/opt/ml/input/data/train\", \"epoch\": 1, \"duration\": 414, \"num_examples\": 257, \"num_bytes\": 37936248}\u001b[0m\n",
      "\u001b[34m[07/17/2020 18:56:26 INFO 140510002829120] Sampling training data completed.\u001b[0m\n",
      "\u001b[34m#metrics {\"Metrics\": {\"epochs\": {\"count\": 1, \"max\": 1, \"sum\": 1.0, \"min\": 1}, \"update.time\": {\"count\": 1, \"max\": 431.4699172973633, \"sum\": 431.4699172973633, \"min\": 431.4699172973633}}, \"EndTime\": 1595012186.924166, \"Dimensions\": {\"Host\": \"algo-1\", \"Operation\": \"training\", \"Algorithm\": \"RandomCutForest\"}, \"StartTime\": 1595012186.49068}\n",
      "\u001b[0m\n",
      "\u001b[34m[07/17/2020 18:56:26 INFO 140510002829120] Early stop condition met. Stopping training.\u001b[0m\n",
      "\u001b[34m[07/17/2020 18:56:26 INFO 140510002829120] #progress_metric: host=algo-1, completed 100 % epochs\u001b[0m\n",
      "\u001b[34m#metrics {\"Metrics\": {\"Max Batches Seen Between Resets\": {\"count\": 1, \"max\": 257, \"sum\": 257.0, \"min\": 257}, \"Number of Batches Since Last Reset\": {\"count\": 1, \"max\": 257, \"sum\": 257.0, \"min\": 257}, \"Number of Records Since Last Reset\": {\"count\": 1, \"max\": 256326, \"sum\": 256326.0, \"min\": 256326}, \"Total Batches Seen\": {\"count\": 1, \"max\": 257, \"sum\": 257.0, \"min\": 257}, \"Total Records Seen\": {\"count\": 1, \"max\": 256326, \"sum\": 256326.0, \"min\": 256326}, \"Max Records Seen Between Resets\": {\"count\": 1, \"max\": 256326, \"sum\": 256326.0, \"min\": 256326}, \"Reset Count\": {\"count\": 1, \"max\": 1, \"sum\": 1.0, \"min\": 1}}, \"EndTime\": 1595012186.924554, \"Dimensions\": {\"Host\": \"algo-1\", \"Meta\": \"training_data_iter\", \"Operation\": \"training\", \"Algorithm\": \"RandomCutForest\", \"epoch\": 0}, \"StartTime\": 1595012186.492638}\n",
      "\u001b[0m\n",
      "\u001b[34m[07/17/2020 18:56:26 INFO 140510002829120] #throughput_metric: host=algo-1, train throughput=593306.071859 records/second\u001b[0m\n",
      "\u001b[34m[07/17/2020 18:56:26 INFO 140510002829120] Master node: building Random Cut Forest...\u001b[0m\n",
      "\u001b[34m[07/17/2020 18:56:26 INFO 140510002829120] Gathering samples...\u001b[0m\n",
      "\u001b[34m[07/17/2020 18:56:26 INFO 140510002829120] 25600 samples gathered\u001b[0m\n",
      "\u001b[34m[07/17/2020 18:56:26 INFO 140510002829120] Building Random Cut Forest...\u001b[0m\n",
      "\u001b[34m[07/17/2020 18:56:27 INFO 140510002829120] Random Cut Forest built: \n",
      "\u001b[0m\n",
      "\u001b[34mForestInfo{num_trees: 50, num_samples_in_forest: 25600, num_samples_per_tree: 512, sample_dim: 30, shingle_size: 1, trees_num_nodes: [953, 919, 941, 955, 961, 907, 941, 929, 923, 913, 935, 921, 933, 939, 931, 943, 919, 941, 943, 929, 945, 935, 941, 915, 925, 917, 925, 933, 921, 917, 941, 925, 923, 929, 925, 937, 925, 939, 945, 921, 939, 923, 925, 921, 933, 915, 929, 945, 921, 929, ], trees_depth: [20, 20, 24, 22, 24, 22, 22, 19, 19, 21, 18, 20, 23, 21, 19, 22, 19, 23, 20, 22, 21, 20, 20, 22, 22, 20, 20, 22, 22, 18, 22, 20, 19, 20, 23, 21, 22, 21, 20, 24, 22, 20, 22, 23, 20, 19, 18, 23, 20, 20, ], max_num_nodes: 961, min_num_nodes: 907, avg_num_nodes: 930, max_tree_depth: 24, min_tree_depth: 18, avg_tree_depth: 20, mem_size: 26435168}\u001b[0m\n",
      "\u001b[34m#metrics {\"Metrics\": {\"finalize.time\": {\"count\": 1, \"max\": 97.31507301330566, \"sum\": 97.31507301330566, \"min\": 97.31507301330566}, \"model.bytes\": {\"count\": 1, \"max\": 26435168, \"sum\": 26435168.0, \"min\": 26435168}, \"fit_model.time\": {\"count\": 1, \"max\": 66.92981719970703, \"sum\": 66.92981719970703, \"min\": 66.92981719970703}}, \"EndTime\": 1595012187.022124, \"Dimensions\": {\"Host\": \"algo-1\", \"Operation\": \"training\", \"Algorithm\": \"RandomCutForest\"}, \"StartTime\": 1595012186.924316}\n",
      "\u001b[0m\n",
      "\u001b[34m[07/17/2020 18:56:27 INFO 140510002829120] Master node: Serializing the RandomCutForest model\u001b[0m\n",
      "\u001b[34m#metrics {\"Metrics\": {\"serialize_model.time\": {\"count\": 1, \"max\": 637.1839046478271, \"sum\": 637.1839046478271, \"min\": 637.1839046478271}}, \"EndTime\": 1595012187.659484, \"Dimensions\": {\"Host\": \"algo-1\", \"Operation\": \"training\", \"Algorithm\": \"RandomCutForest\"}, \"StartTime\": 1595012187.022237}\n",
      "\u001b[0m\n",
      "\u001b[34m[07/17/2020 18:56:27 INFO 140510002829120] Test data is not provided.\u001b[0m\n",
      "\u001b[34m[07/17/2020 18:56:27 INFO 140508599301888] >>> shutting down FTP server (0 active fds) <<<\u001b[0m\n",
      "\u001b[34m[I 20-07-17 18:56:27] >>> shutting down FTP server (0 active fds) <<<\u001b[0m\n",
      "\u001b[34m#metrics {\"Metrics\": {\"totaltime\": {\"count\": 1, \"max\": 2250.3700256347656, \"sum\": 2250.3700256347656, \"min\": 2250.3700256347656}, \"setuptime\": {\"count\": 1, \"max\": 263.6418342590332, \"sum\": 263.6418342590332, \"min\": 263.6418342590332}}, \"EndTime\": 1595012187.770732, \"Dimensions\": {\"Host\": \"algo-1\", \"Operation\": \"training\", \"Algorithm\": \"RandomCutForest\"}, \"StartTime\": 1595012187.659559}\n",
      "\u001b[0m\n",
      "\n",
      "2020-07-17 18:56:44 Uploading - Uploading generated training model\n",
      "2020-07-17 18:56:44 Completed - Training job completed\n",
      "Training seconds: 132\n",
      "Billable seconds: 132\n"
     ]
    }
   ],
   "source": [
    "rcf.fit(rcf.record_set(X_train))"
   ]
  },
  {
   "cell_type": "markdown",
   "metadata": {},
   "source": [
    "<a id='endpoint' />\n",
    "\n",
    "## SageMaker Endpoint \n",
    "[(back to top)](#contents)"
   ]
  },
  {
   "cell_type": "markdown",
   "metadata": {},
   "source": [
    "Una vez entrenado el modelo, procedemos a desplegarlo y a realizar predicciones sobre el test."
   ]
  },
  {
   "cell_type": "code",
   "execution_count": 36,
   "metadata": {},
   "outputs": [
    {
     "name": "stderr",
     "output_type": "stream",
     "text": [
      "Parameter image will be renamed to image_uri in SageMaker Python SDK v2.\n"
     ]
    },
    {
     "name": "stdout",
     "output_type": "stream",
     "text": [
      "s3://fraud-bucket-processed-events/monitoring/datacapture\n",
      "-----------------!"
     ]
    }
   ],
   "source": [
    "prefix = 'monitoring'\n",
    "\n",
    "s3_capture_upload_path = 's3://{}/{}/datacapture'.format(bucket, prefix)\n",
    "print(s3_capture_upload_path)\n",
    "\n",
    "rcf_predictor = rcf.deploy(\n",
    "    endpoint_name='random-cut-forest-endpoint-4',\n",
    "    initial_instance_count=1,\n",
    "    instance_type='ml.c4.xlarge',\n",
    "    data_capture_config=DataCaptureConfig(\n",
    "                                enable_capture=True,\n",
    "                                sampling_percentage=100,\n",
    "                                destination_s3_uri=s3_capture_upload_path))"
   ]
  },
  {
   "cell_type": "markdown",
   "metadata": {},
   "source": [
    "### Serialización/Deserialización de la data"
   ]
  },
  {
   "cell_type": "markdown",
   "metadata": {},
   "source": [
    "Podemos entregar los datos en variedad de formatos al endpoint de inferencia. En este ejemplo se utiliza data en formato .csv. Hay otros formatos disponibles como JSON y RecordIO Protobuf. Utilizamos csv_serializer y json_serializer cuando configuramos el endpoint de inferencia. "
   ]
  },
  {
   "cell_type": "code",
   "execution_count": 49,
   "metadata": {},
   "outputs": [],
   "source": [
    "from sagemaker.predictor import csv_serializer, json_deserializer\n",
    "\n",
    "rcf_predictor.content_type = 'text/csv'\n",
    "rcf_predictor.serializer = csv_serializer\n",
    "rcf_predictor.accept = 'application/json'\n",
    "rcf_predictor.deserializer = json_deserializer"
   ]
  },
  {
   "cell_type": "markdown",
   "metadata": {},
   "source": [
    "<a id='revision' />\n",
    "\n",
    "## Revisión del modelo:\n",
    "[(back to top)](#contents)"
   ]
  },
  {
   "cell_type": "markdown",
   "metadata": {},
   "source": [
    "Una vez desplegado el modelo en el endpoint, podemos realizar predicciones:"
   ]
  },
  {
   "cell_type": "code",
   "execution_count": 50,
   "metadata": {},
   "outputs": [],
   "source": [
    "def predict_rcf(current_predictor, data, rows=500):\n",
    "    split_array = np.array_split(data, int(data.shape[0] / float(rows) + 1))\n",
    "    predictions = []\n",
    "    for array in split_array:\n",
    "        array_preds = [s['score'] for s in current_predictor.predict(array)['scores']]\n",
    "        predictions.append(array_preds)\n",
    "\n",
    "    return np.concatenate([np.array(batch) for batch in predictions])"
   ]
  },
  {
   "cell_type": "markdown",
   "metadata": {},
   "source": [
    "Inferencia de scores de anomalía"
   ]
  },
  {
   "cell_type": "code",
   "execution_count": 52,
   "metadata": {},
   "outputs": [],
   "source": [
    "scores=predict_rcf(rcf_predictor, X_test)"
   ]
  },
  {
   "cell_type": "code",
   "execution_count": 72,
   "metadata": {},
   "outputs": [],
   "source": [
    "results_test=pd.DataFrame(X_test, columns=feature_columns)\n",
    "results_test['score'] = results"
   ]
  },
  {
   "cell_type": "markdown",
   "metadata": {},
   "source": [
    "Imprimir los puntos con scores mayores a 3 desviaciones estándar (aproximadamente el percentil 99) de la media de puntajes. "
   ]
  },
  {
   "cell_type": "code",
   "execution_count": 75,
   "metadata": {},
   "outputs": [
    {
     "data": {
      "text/html": [
       "<div>\n",
       "<style scoped>\n",
       "    .dataframe tbody tr th:only-of-type {\n",
       "        vertical-align: middle;\n",
       "    }\n",
       "\n",
       "    .dataframe tbody tr th {\n",
       "        vertical-align: top;\n",
       "    }\n",
       "\n",
       "    .dataframe thead th {\n",
       "        text-align: right;\n",
       "    }\n",
       "</style>\n",
       "<table border=\"1\" class=\"dataframe\">\n",
       "  <thead>\n",
       "    <tr style=\"text-align: right;\">\n",
       "      <th></th>\n",
       "      <th>Time</th>\n",
       "      <th>V1</th>\n",
       "      <th>V2</th>\n",
       "      <th>V3</th>\n",
       "      <th>V4</th>\n",
       "      <th>V5</th>\n",
       "      <th>V6</th>\n",
       "      <th>V7</th>\n",
       "      <th>V8</th>\n",
       "      <th>V9</th>\n",
       "      <th>...</th>\n",
       "      <th>V21</th>\n",
       "      <th>V22</th>\n",
       "      <th>V23</th>\n",
       "      <th>V24</th>\n",
       "      <th>V25</th>\n",
       "      <th>V26</th>\n",
       "      <th>V27</th>\n",
       "      <th>V28</th>\n",
       "      <th>Amount</th>\n",
       "      <th>score</th>\n",
       "    </tr>\n",
       "  </thead>\n",
       "  <tbody>\n",
       "    <tr>\n",
       "      <th>32</th>\n",
       "      <td>141655.0</td>\n",
       "      <td>-29.942972</td>\n",
       "      <td>-25.831781</td>\n",
       "      <td>-16.227512</td>\n",
       "      <td>6.690679</td>\n",
       "      <td>-20.787846</td>\n",
       "      <td>13.085694</td>\n",
       "      <td>17.256622</td>\n",
       "      <td>-9.161746</td>\n",
       "      <td>5.003041</td>\n",
       "      <td>...</td>\n",
       "      <td>-2.494699</td>\n",
       "      <td>-0.660297</td>\n",
       "      <td>-8.537816</td>\n",
       "      <td>0.400804</td>\n",
       "      <td>-0.643023</td>\n",
       "      <td>0.496903</td>\n",
       "      <td>6.267709</td>\n",
       "      <td>-2.765070</td>\n",
       "      <td>3502.110107</td>\n",
       "      <td>1.498158</td>\n",
       "    </tr>\n",
       "    <tr>\n",
       "      <th>103</th>\n",
       "      <td>1657.0</td>\n",
       "      <td>1.241253</td>\n",
       "      <td>-0.107798</td>\n",
       "      <td>0.432991</td>\n",
       "      <td>-0.121891</td>\n",
       "      <td>-0.790021</td>\n",
       "      <td>-0.980616</td>\n",
       "      <td>-0.218998</td>\n",
       "      <td>-0.019842</td>\n",
       "      <td>0.196839</td>\n",
       "      <td>...</td>\n",
       "      <td>-0.061766</td>\n",
       "      <td>-0.267594</td>\n",
       "      <td>0.076490</td>\n",
       "      <td>0.568786</td>\n",
       "      <td>0.134627</td>\n",
       "      <td>0.934921</td>\n",
       "      <td>-0.096797</td>\n",
       "      <td>-0.007563</td>\n",
       "      <td>2.310000</td>\n",
       "      <td>1.233508</td>\n",
       "    </tr>\n",
       "    <tr>\n",
       "      <th>190</th>\n",
       "      <td>1422.0</td>\n",
       "      <td>-1.805552</td>\n",
       "      <td>1.671304</td>\n",
       "      <td>0.619620</td>\n",
       "      <td>-0.976160</td>\n",
       "      <td>-0.458580</td>\n",
       "      <td>-0.548156</td>\n",
       "      <td>0.134674</td>\n",
       "      <td>0.681750</td>\n",
       "      <td>0.606681</td>\n",
       "      <td>...</td>\n",
       "      <td>-0.257455</td>\n",
       "      <td>-0.561867</td>\n",
       "      <td>-0.026061</td>\n",
       "      <td>-0.027794</td>\n",
       "      <td>-0.031312</td>\n",
       "      <td>0.321154</td>\n",
       "      <td>0.580264</td>\n",
       "      <td>0.345711</td>\n",
       "      <td>1.000000</td>\n",
       "      <td>1.248522</td>\n",
       "    </tr>\n",
       "    <tr>\n",
       "      <th>222</th>\n",
       "      <td>1757.0</td>\n",
       "      <td>-0.640106</td>\n",
       "      <td>-0.014125</td>\n",
       "      <td>1.009867</td>\n",
       "      <td>-1.866220</td>\n",
       "      <td>0.000452</td>\n",
       "      <td>-0.746637</td>\n",
       "      <td>0.434067</td>\n",
       "      <td>-0.063813</td>\n",
       "      <td>-1.653938</td>\n",
       "      <td>...</td>\n",
       "      <td>0.381225</td>\n",
       "      <td>0.930371</td>\n",
       "      <td>-0.067886</td>\n",
       "      <td>0.052395</td>\n",
       "      <td>0.018214</td>\n",
       "      <td>-0.325211</td>\n",
       "      <td>0.327599</td>\n",
       "      <td>0.199766</td>\n",
       "      <td>70.849998</td>\n",
       "      <td>1.265753</td>\n",
       "    </tr>\n",
       "    <tr>\n",
       "      <th>253</th>\n",
       "      <td>878.0</td>\n",
       "      <td>-2.512192</td>\n",
       "      <td>0.317838</td>\n",
       "      <td>1.270333</td>\n",
       "      <td>1.214258</td>\n",
       "      <td>1.179903</td>\n",
       "      <td>-0.412233</td>\n",
       "      <td>1.002716</td>\n",
       "      <td>-0.774680</td>\n",
       "      <td>1.656602</td>\n",
       "      <td>...</td>\n",
       "      <td>-0.655258</td>\n",
       "      <td>0.242368</td>\n",
       "      <td>-0.135074</td>\n",
       "      <td>0.104261</td>\n",
       "      <td>0.211102</td>\n",
       "      <td>-0.287307</td>\n",
       "      <td>0.335129</td>\n",
       "      <td>0.328212</td>\n",
       "      <td>18.799999</td>\n",
       "      <td>1.335678</td>\n",
       "    </tr>\n",
       "    <tr>\n",
       "      <th>...</th>\n",
       "      <td>...</td>\n",
       "      <td>...</td>\n",
       "      <td>...</td>\n",
       "      <td>...</td>\n",
       "      <td>...</td>\n",
       "      <td>...</td>\n",
       "      <td>...</td>\n",
       "      <td>...</td>\n",
       "      <td>...</td>\n",
       "      <td>...</td>\n",
       "      <td>...</td>\n",
       "      <td>...</td>\n",
       "      <td>...</td>\n",
       "      <td>...</td>\n",
       "      <td>...</td>\n",
       "      <td>...</td>\n",
       "      <td>...</td>\n",
       "      <td>...</td>\n",
       "      <td>...</td>\n",
       "      <td>...</td>\n",
       "      <td>...</td>\n",
       "    </tr>\n",
       "    <tr>\n",
       "      <th>28357</th>\n",
       "      <td>171914.0</td>\n",
       "      <td>1.970018</td>\n",
       "      <td>-0.355816</td>\n",
       "      <td>-1.323578</td>\n",
       "      <td>0.299358</td>\n",
       "      <td>-0.038320</td>\n",
       "      <td>-0.627062</td>\n",
       "      <td>0.025980</td>\n",
       "      <td>-0.065628</td>\n",
       "      <td>0.586317</td>\n",
       "      <td>...</td>\n",
       "      <td>-0.212821</td>\n",
       "      <td>-0.617320</td>\n",
       "      <td>0.228779</td>\n",
       "      <td>-0.423555</td>\n",
       "      <td>-0.262033</td>\n",
       "      <td>0.284253</td>\n",
       "      <td>-0.090964</td>\n",
       "      <td>-0.075231</td>\n",
       "      <td>34.990002</td>\n",
       "      <td>1.224628</td>\n",
       "    </tr>\n",
       "    <tr>\n",
       "      <th>28388</th>\n",
       "      <td>172393.0</td>\n",
       "      <td>-0.685289</td>\n",
       "      <td>1.520622</td>\n",
       "      <td>-0.630377</td>\n",
       "      <td>-0.325479</td>\n",
       "      <td>-0.022094</td>\n",
       "      <td>0.077774</td>\n",
       "      <td>-1.396767</td>\n",
       "      <td>-5.504335</td>\n",
       "      <td>-0.387496</td>\n",
       "      <td>...</td>\n",
       "      <td>-2.781250</td>\n",
       "      <td>0.226990</td>\n",
       "      <td>-0.121431</td>\n",
       "      <td>-0.110813</td>\n",
       "      <td>0.947480</td>\n",
       "      <td>-0.013367</td>\n",
       "      <td>0.075546</td>\n",
       "      <td>0.288095</td>\n",
       "      <td>72.400002</td>\n",
       "      <td>1.381463</td>\n",
       "    </tr>\n",
       "    <tr>\n",
       "      <th>28408</th>\n",
       "      <td>784.0</td>\n",
       "      <td>1.269172</td>\n",
       "      <td>0.444892</td>\n",
       "      <td>0.172031</td>\n",
       "      <td>1.022692</td>\n",
       "      <td>0.015860</td>\n",
       "      <td>-0.732037</td>\n",
       "      <td>0.297024</td>\n",
       "      <td>-0.281962</td>\n",
       "      <td>-0.183246</td>\n",
       "      <td>...</td>\n",
       "      <td>0.018769</td>\n",
       "      <td>0.163191</td>\n",
       "      <td>-0.159069</td>\n",
       "      <td>0.072121</td>\n",
       "      <td>0.777835</td>\n",
       "      <td>-0.310421</td>\n",
       "      <td>0.021357</td>\n",
       "      <td>0.019546</td>\n",
       "      <td>5.070000</td>\n",
       "      <td>1.334098</td>\n",
       "    </tr>\n",
       "    <tr>\n",
       "      <th>28410</th>\n",
       "      <td>7248.0</td>\n",
       "      <td>-0.426112</td>\n",
       "      <td>1.317521</td>\n",
       "      <td>1.863215</td>\n",
       "      <td>1.506461</td>\n",
       "      <td>-0.328416</td>\n",
       "      <td>-0.703216</td>\n",
       "      <td>0.419872</td>\n",
       "      <td>-0.391180</td>\n",
       "      <td>1.060302</td>\n",
       "      <td>...</td>\n",
       "      <td>-0.388986</td>\n",
       "      <td>-0.517449</td>\n",
       "      <td>0.070642</td>\n",
       "      <td>0.648413</td>\n",
       "      <td>-0.731423</td>\n",
       "      <td>0.307208</td>\n",
       "      <td>0.166221</td>\n",
       "      <td>0.060570</td>\n",
       "      <td>1.290000</td>\n",
       "      <td>1.221526</td>\n",
       "    </tr>\n",
       "    <tr>\n",
       "      <th>28461</th>\n",
       "      <td>172353.0</td>\n",
       "      <td>1.706579</td>\n",
       "      <td>-1.496331</td>\n",
       "      <td>-0.063429</td>\n",
       "      <td>0.867838</td>\n",
       "      <td>-1.043551</td>\n",
       "      <td>1.266935</td>\n",
       "      <td>-1.224712</td>\n",
       "      <td>0.261557</td>\n",
       "      <td>0.682836</td>\n",
       "      <td>...</td>\n",
       "      <td>-0.334871</td>\n",
       "      <td>-0.418505</td>\n",
       "      <td>0.097110</td>\n",
       "      <td>0.006786</td>\n",
       "      <td>-0.251503</td>\n",
       "      <td>-0.682556</td>\n",
       "      <td>0.103522</td>\n",
       "      <td>0.015705</td>\n",
       "      <td>180.979996</td>\n",
       "      <td>1.394954</td>\n",
       "    </tr>\n",
       "  </tbody>\n",
       "</table>\n",
       "<p>557 rows × 31 columns</p>\n",
       "</div>"
      ],
      "text/plain": [
       "           Time         V1         V2         V3        V4         V5  \\\n",
       "32     141655.0 -29.942972 -25.831781 -16.227512  6.690679 -20.787846   \n",
       "103      1657.0   1.241253  -0.107798   0.432991 -0.121891  -0.790021   \n",
       "190      1422.0  -1.805552   1.671304   0.619620 -0.976160  -0.458580   \n",
       "222      1757.0  -0.640106  -0.014125   1.009867 -1.866220   0.000452   \n",
       "253       878.0  -2.512192   0.317838   1.270333  1.214258   1.179903   \n",
       "...         ...        ...        ...        ...       ...        ...   \n",
       "28357  171914.0   1.970018  -0.355816  -1.323578  0.299358  -0.038320   \n",
       "28388  172393.0  -0.685289   1.520622  -0.630377 -0.325479  -0.022094   \n",
       "28408     784.0   1.269172   0.444892   0.172031  1.022692   0.015860   \n",
       "28410    7248.0  -0.426112   1.317521   1.863215  1.506461  -0.328416   \n",
       "28461  172353.0   1.706579  -1.496331  -0.063429  0.867838  -1.043551   \n",
       "\n",
       "              V6         V7        V8        V9  ...       V21       V22  \\\n",
       "32     13.085694  17.256622 -9.161746  5.003041  ... -2.494699 -0.660297   \n",
       "103    -0.980616  -0.218998 -0.019842  0.196839  ... -0.061766 -0.267594   \n",
       "190    -0.548156   0.134674  0.681750  0.606681  ... -0.257455 -0.561867   \n",
       "222    -0.746637   0.434067 -0.063813 -1.653938  ...  0.381225  0.930371   \n",
       "253    -0.412233   1.002716 -0.774680  1.656602  ... -0.655258  0.242368   \n",
       "...          ...        ...       ...       ...  ...       ...       ...   \n",
       "28357  -0.627062   0.025980 -0.065628  0.586317  ... -0.212821 -0.617320   \n",
       "28388   0.077774  -1.396767 -5.504335 -0.387496  ... -2.781250  0.226990   \n",
       "28408  -0.732037   0.297024 -0.281962 -0.183246  ...  0.018769  0.163191   \n",
       "28410  -0.703216   0.419872 -0.391180  1.060302  ... -0.388986 -0.517449   \n",
       "28461   1.266935  -1.224712  0.261557  0.682836  ... -0.334871 -0.418505   \n",
       "\n",
       "            V23       V24       V25       V26       V27       V28  \\\n",
       "32    -8.537816  0.400804 -0.643023  0.496903  6.267709 -2.765070   \n",
       "103    0.076490  0.568786  0.134627  0.934921 -0.096797 -0.007563   \n",
       "190   -0.026061 -0.027794 -0.031312  0.321154  0.580264  0.345711   \n",
       "222   -0.067886  0.052395  0.018214 -0.325211  0.327599  0.199766   \n",
       "253   -0.135074  0.104261  0.211102 -0.287307  0.335129  0.328212   \n",
       "...         ...       ...       ...       ...       ...       ...   \n",
       "28357  0.228779 -0.423555 -0.262033  0.284253 -0.090964 -0.075231   \n",
       "28388 -0.121431 -0.110813  0.947480 -0.013367  0.075546  0.288095   \n",
       "28408 -0.159069  0.072121  0.777835 -0.310421  0.021357  0.019546   \n",
       "28410  0.070642  0.648413 -0.731423  0.307208  0.166221  0.060570   \n",
       "28461  0.097110  0.006786 -0.251503 -0.682556  0.103522  0.015705   \n",
       "\n",
       "            Amount     score  \n",
       "32     3502.110107  1.498158  \n",
       "103       2.310000  1.233508  \n",
       "190       1.000000  1.248522  \n",
       "222      70.849998  1.265753  \n",
       "253      18.799999  1.335678  \n",
       "...            ...       ...  \n",
       "28357    34.990002  1.224628  \n",
       "28388    72.400002  1.381463  \n",
       "28408     5.070000  1.334098  \n",
       "28410     1.290000  1.221526  \n",
       "28461   180.979996  1.394954  \n",
       "\n",
       "[557 rows x 31 columns]"
      ]
     },
     "execution_count": 75,
     "metadata": {},
     "output_type": "execute_result"
    }
   ],
   "source": [
    "score_mean = results_test['score'].mean()\n",
    "score_std = results_test['score'].std()\n",
    "score_cutoff = score_mean + 3*score_std\n",
    "\n",
    "anomalies = results_test[results_test['score'] > score_cutoff]\n",
    "anomalies"
   ]
  },
  {
   "cell_type": "markdown",
   "metadata": {},
   "source": [
    "<a id='traffic' />\n",
    "\n",
    "## Enviar tráfico al endpoint:\n",
    "[(back to top)](#contents)"
   ]
  },
  {
   "cell_type": "markdown",
   "metadata": {},
   "source": [
    "Se utilizan requests HTTP al API Gateway, con el script `generate_endpoint_traffic.py` . El API Gateway invoca la función Lambda, que a su vez invoca el endpoint del modelo para realizar la inferencia. "
   ]
  },
  {
   "cell_type": "code",
   "execution_count": 7,
   "metadata": {},
   "outputs": [],
   "source": [
    "from threading import Thread\n",
    "from generate_endpoint_traffic import generate_traffic\n",
    "\n",
    "thread = Thread(target = generate_traffic, args=[np.copy(X_test)])\n",
    "thread.start()"
   ]
  },
  {
   "cell_type": "markdown",
   "metadata": {},
   "source": [
    "<a id='clean' />\n",
    "\n",
    "## Limpieza de recursos\n",
    "[(back to top)](#contents)"
   ]
  },
  {
   "cell_type": "markdown",
   "metadata": {},
   "source": [
    "Si queremos eliminar el endpoint por alguna razón, corremos el siguiente código:"
   ]
  },
  {
   "cell_type": "code",
   "execution_count": null,
   "metadata": {},
   "outputs": [],
   "source": [
    "# rcf_predictor.delete_endpoint()"
   ]
  }
 ],
 "metadata": {
  "kernelspec": {
   "display_name": "Python 3",
   "language": "python",
   "name": "python3"
  },
  "language_info": {
   "codemirror_mode": {
    "name": "ipython",
    "version": 3
   },
   "file_extension": ".py",
   "mimetype": "text/x-python",
   "name": "python",
   "nbconvert_exporter": "python",
   "pygments_lexer": "ipython3",
   "version": "3.7.6"
  }
 },
 "nbformat": 4,
 "nbformat_minor": 2
}
